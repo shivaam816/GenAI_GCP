{
 "cells": [
  {
   "cell_type": "markdown",
   "metadata": {},
   "source": [
    "Install all the dependencies"
   ]
  },
  {
   "cell_type": "code",
   "execution_count": null,
   "metadata": {},
   "outputs": [],
   "source": [
    "!pip install langchain google-cloud-aiplatform mlflow yfinance exa_py brave-search\n"
   ]
  },
  {
   "cell_type": "markdown",
   "metadata": {},
   "source": [
    "Import all the dependencies required"
   ]
  },
  {
   "cell_type": "code",
   "execution_count": null,
   "metadata": {},
   "outputs": [],
   "source": [
    "import os\n",
    "import mlflow\n",
    "import yfinance as yf\n",
    "from langchain.prompts import PromptTemplate\n",
    "from langchain.output_parsers import StructuredOutputParser, ResponseSchema\n",
    "from langchain_google_vertexai import VertexAI\n",
    "from langchain_community.tools import BraveSearch"
   ]
  },
  {
   "cell_type": "code",
   "execution_count": null,
   "metadata": {},
   "outputs": [],
   "source": [
    "# VertexAI setup\n",
    "llm = VertexAI(model=\"gemini-2.0-flash\", temperature=0.2)"
   ]
  },
  {
   "cell_type": "code",
   "execution_count": null,
   "metadata": {},
   "outputs": [],
   "source": [
    "#MLFlow setup\n",
    "mlflow.set_tracking_uri(\"http://20.75.92.162:5000/\")\n",
    "mlflow.set_experiment(\"market_sentiment_analyzer\")\n",
    "mlflow.start_run(run_name=\"sentiment_pipeline\")"
   ]
  },
  {
   "cell_type": "code",
   "execution_count": null,
   "metadata": {},
   "outputs": [],
   "source": [
    "# Update the company as needed, for ex Google\n",
    "company_name = \"Google\"\n",
    "mlflow.log_param(\"company_name\", company_name)"
   ]
  },
  {
   "cell_type": "code",
   "execution_count": null,
   "metadata": {},
   "outputs": [],
   "source": [
    "# =========================================================\n",
    "# Cell 7: Step 2 - Stock Code Lookup\n",
    "# Reference: code4_function_calling_with_gemini.ipynb\n",
    "# =========================================================\n",
    "\n",
    "def get_stock_code(company_name: str) -> str:\n",
    "    try:\n",
    "        ticker = yf.Ticker(company_name)\n",
    "        return ticker.ticker if hasattr(ticker, \"ticker\") else \"N/A\"\n",
    "    except Exception:\n",
    "        return \"N/A\"\n",
    "\n",
    "stock_code = get_stock_code(company_name)\n",
    "mlflow.log_param(\"stock_code\", stock_code)\n",
    "\n",
    "print(f\"Stock Code for {company_name}: {stock_code}\")\n"
   ]
  },
  {
   "cell_type": "code",
   "execution_count": null,
   "metadata": {},
   "outputs": [],
   "source": [
    "# =========================================================\n",
    "# Cell 8: Step 3 - Fetch News\n",
    "# Reference: code4_function_calling_with_gemini.ipynb & code5_Langchain_and_Langgraph_Chains.ipynb\n",
    "# =========================================================\n",
    "\n",
    "news_tool = BraveSearch()\n",
    "results = news_tool.run(company_name)\n",
    "\n",
    "news_summaries = [r[\"title\"] + \" - \" + r[\"snippet\"] for r in results[:5]]\n",
    "mlflow.log_param(\"news_count\", len(news_summaries))\n",
    "\n",
    "print(\"Top 5 News Headlines:\")\n",
    "for i, news in enumerate(news_summaries, 1):\n",
    "    print(f\"{i}. {news}\")\n"
   ]
  },
  {
   "cell_type": "code",
   "execution_count": null,
   "metadata": {},
   "outputs": [],
   "source": [
    "# =========================================================\n",
    "# Cell 9: Step 4 - Define Output JSON Schema\n",
    "# Reference: code7_NLP2SQL_Chains.ipynb\n",
    "# =========================================================\n",
    "\n",
    "response_schemas = [\n",
    "    ResponseSchema(name=\"company_name\", description=\"Name of the company\"),\n",
    "    ResponseSchema(name=\"stock_code\", description=\"Stock ticker symbol\"),\n",
    "    ResponseSchema(name=\"newsdesc\", description=\"Brief description of news\"),\n",
    "    ResponseSchema(name=\"sentiment\", description=\"Positive/Negative/Neutral\"),\n",
    "    ResponseSchema(name=\"people_names\", description=\"List of people mentioned\"),\n",
    "    ResponseSchema(name=\"places_names\", description=\"List of places mentioned\"),\n",
    "    ResponseSchema(name=\"other_companies_referred\", description=\"Other companies mentioned\"),\n",
    "    ResponseSchema(name=\"related_industries\", description=\"Industries referenced\"),\n",
    "    ResponseSchema(name=\"market_implications\", description=\"Implications for the market\"),\n",
    "    ResponseSchema(name=\"confidence_score\", description=\"Float between 0 and 1\"),\n",
    "]\n",
    "\n",
    "output_parser = StructuredOutputParser.from_response_schemas(response_schemas)\n",
    "format_instructions = output_parser.get_format_instructions()\n"
   ]
  },
  {
   "cell_type": "code",
   "execution_count": null,
   "metadata": {},
   "outputs": [],
   "source": [
    "# =========================================================\n",
    "# Cell 10: Step 4 - Prompt Template for Gemini\n",
    "# Reference: code2_prompt_version_control_management.ipynb\n",
    "# =========================================================\n",
    "\n",
    "template = \"\"\"\n",
    "Analyze the following recent news about {company_name} ({stock_code}) \n",
    "and generate a structured sentiment profile.\n",
    "\n",
    "News:\n",
    "{news_summaries}\n",
    "\n",
    "{format_instructions}\n",
    "\"\"\"\n",
    "\n",
    "prompt = PromptTemplate(\n",
    "    template=template,\n",
    "    input_variables=[\"company_name\", \"stock_code\", \"news_summaries\"],\n",
    "    partial_variables={\"format_instructions\": format_instructions}\n",
    ")\n"
   ]
  },
  {
   "cell_type": "code",
   "execution_count": null,
   "metadata": {},
   "outputs": [],
   "source": [
    "# =========================================================\n",
    "# Cell 12: Step 5 - Close mlflow Run\n",
    "# =========================================================\n",
    "\n",
    "mlflow.end_run()\n"
   ]
  }
 ],
 "metadata": {
  "kernelspec": {
   "display_name": "Python 3",
   "language": "python",
   "name": "python3"
  },
  "language_info": {
   "codemirror_mode": {
    "name": "ipython",
    "version": 3
   },
   "file_extension": ".py",
   "mimetype": "text/x-python",
   "name": "python",
   "nbconvert_exporter": "python",
   "pygments_lexer": "ipython3",
   "version": "3.11.9"
  }
 },
 "nbformat": 4,
 "nbformat_minor": 2
}
