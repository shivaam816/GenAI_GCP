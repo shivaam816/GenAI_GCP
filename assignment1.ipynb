{
 "cells": [
  {
   "cell_type": "markdown",
   "metadata": {},
   "source": [
    "Install all the dependencies"
   ]
  },
  {
   "cell_type": "code",
   "execution_count": 18,
   "metadata": {},
   "outputs": [
    {
     "name": "stdout",
     "output_type": "stream",
     "text": [
      "Requirement already satisfied: langchain in /home/zadmin/Desktop/assignments/.venv/lib/python3.12/site-packages (0.3.27)\n",
      "Requirement already satisfied: google-cloud-aiplatform in /home/zadmin/Desktop/assignments/.venv/lib/python3.12/site-packages (1.115.0)\n",
      "Requirement already satisfied: mlflow in /home/zadmin/Desktop/assignments/.venv/lib/python3.12/site-packages (3.3.2)\n",
      "Requirement already satisfied: yfinance in /home/zadmin/Desktop/assignments/.venv/lib/python3.12/site-packages (0.2.66)\n",
      "Requirement already satisfied: exa_py in /home/zadmin/Desktop/assignments/.venv/lib/python3.12/site-packages (1.9.1)\n",
      "Requirement already satisfied: langchain-google-vertexai in /home/zadmin/Desktop/assignments/.venv/lib/python3.12/site-packages (2.1.2)\n",
      "Requirement already satisfied: langchain-core<1.0.0,>=0.3.72 in /home/zadmin/Desktop/assignments/.venv/lib/python3.12/site-packages (from langchain) (0.3.76)\n",
      "Requirement already satisfied: langchain-text-splitters<1.0.0,>=0.3.9 in /home/zadmin/Desktop/assignments/.venv/lib/python3.12/site-packages (from langchain) (0.3.11)\n",
      "Requirement already satisfied: langsmith>=0.1.17 in /home/zadmin/Desktop/assignments/.venv/lib/python3.12/site-packages (from langchain) (0.4.29)\n",
      "Requirement already satisfied: pydantic<3.0.0,>=2.7.4 in /home/zadmin/Desktop/assignments/.venv/lib/python3.12/site-packages (from langchain) (2.11.9)\n",
      "Requirement already satisfied: SQLAlchemy<3,>=1.4 in /home/zadmin/Desktop/assignments/.venv/lib/python3.12/site-packages (from langchain) (2.0.43)\n",
      "Requirement already satisfied: requests<3,>=2 in /home/zadmin/Desktop/assignments/.venv/lib/python3.12/site-packages (from langchain) (2.32.5)\n",
      "Requirement already satisfied: PyYAML>=5.3 in /home/zadmin/Desktop/assignments/.venv/lib/python3.12/site-packages (from langchain) (6.0.2)\n",
      "Requirement already satisfied: tenacity!=8.4.0,<10.0.0,>=8.1.0 in /home/zadmin/Desktop/assignments/.venv/lib/python3.12/site-packages (from langchain-core<1.0.0,>=0.3.72->langchain) (8.5.0)\n",
      "Requirement already satisfied: jsonpatch<2.0,>=1.33 in /home/zadmin/Desktop/assignments/.venv/lib/python3.12/site-packages (from langchain-core<1.0.0,>=0.3.72->langchain) (1.33)\n",
      "Requirement already satisfied: typing-extensions>=4.7 in /home/zadmin/Desktop/assignments/.venv/lib/python3.12/site-packages (from langchain-core<1.0.0,>=0.3.72->langchain) (4.15.0)\n",
      "Requirement already satisfied: packaging>=23.2 in /home/zadmin/Desktop/assignments/.venv/lib/python3.12/site-packages (from langchain-core<1.0.0,>=0.3.72->langchain) (25.0)\n",
      "Requirement already satisfied: jsonpointer>=1.9 in /home/zadmin/Desktop/assignments/.venv/lib/python3.12/site-packages (from jsonpatch<2.0,>=1.33->langchain-core<1.0.0,>=0.3.72->langchain) (3.0.0)\n",
      "Requirement already satisfied: annotated-types>=0.6.0 in /home/zadmin/Desktop/assignments/.venv/lib/python3.12/site-packages (from pydantic<3.0.0,>=2.7.4->langchain) (0.7.0)\n",
      "Requirement already satisfied: pydantic-core==2.33.2 in /home/zadmin/Desktop/assignments/.venv/lib/python3.12/site-packages (from pydantic<3.0.0,>=2.7.4->langchain) (2.33.2)\n",
      "Requirement already satisfied: typing-inspection>=0.4.0 in /home/zadmin/Desktop/assignments/.venv/lib/python3.12/site-packages (from pydantic<3.0.0,>=2.7.4->langchain) (0.4.1)\n",
      "Requirement already satisfied: charset_normalizer<4,>=2 in /home/zadmin/Desktop/assignments/.venv/lib/python3.12/site-packages (from requests<3,>=2->langchain) (3.4.3)\n",
      "Requirement already satisfied: idna<4,>=2.5 in /home/zadmin/Desktop/assignments/.venv/lib/python3.12/site-packages (from requests<3,>=2->langchain) (3.10)\n",
      "Requirement already satisfied: urllib3<3,>=1.21.1 in /home/zadmin/Desktop/assignments/.venv/lib/python3.12/site-packages (from requests<3,>=2->langchain) (2.5.0)\n",
      "Requirement already satisfied: certifi>=2017.4.17 in /home/zadmin/Desktop/assignments/.venv/lib/python3.12/site-packages (from requests<3,>=2->langchain) (2025.8.3)\n",
      "Requirement already satisfied: greenlet>=1 in /home/zadmin/Desktop/assignments/.venv/lib/python3.12/site-packages (from SQLAlchemy<3,>=1.4->langchain) (3.2.4)\n",
      "Requirement already satisfied: google-api-core!=2.0.*,!=2.1.*,!=2.2.*,!=2.3.*,!=2.4.*,!=2.5.*,!=2.6.*,!=2.7.*,<3.0.0,>=1.34.1 in /home/zadmin/Desktop/assignments/.venv/lib/python3.12/site-packages (from google-api-core[grpc]!=2.0.*,!=2.1.*,!=2.2.*,!=2.3.*,!=2.4.*,!=2.5.*,!=2.6.*,!=2.7.*,<3.0.0,>=1.34.1->google-cloud-aiplatform) (2.25.1)\n",
      "Requirement already satisfied: google-auth<3.0.0,>=2.14.1 in /home/zadmin/Desktop/assignments/.venv/lib/python3.12/site-packages (from google-cloud-aiplatform) (2.40.3)\n",
      "Requirement already satisfied: proto-plus<2.0.0,>=1.22.3 in /home/zadmin/Desktop/assignments/.venv/lib/python3.12/site-packages (from google-cloud-aiplatform) (1.26.1)\n",
      "Requirement already satisfied: protobuf!=4.21.0,!=4.21.1,!=4.21.2,!=4.21.3,!=4.21.4,!=4.21.5,<7.0.0,>=3.20.2 in /home/zadmin/Desktop/assignments/.venv/lib/python3.12/site-packages (from google-cloud-aiplatform) (6.32.1)\n",
      "Requirement already satisfied: google-cloud-storage<3.0.0,>=1.32.0 in /home/zadmin/Desktop/assignments/.venv/lib/python3.12/site-packages (from google-cloud-aiplatform) (2.19.0)\n",
      "Requirement already satisfied: google-cloud-bigquery!=3.20.0,<4.0.0,>=1.15.0 in /home/zadmin/Desktop/assignments/.venv/lib/python3.12/site-packages (from google-cloud-aiplatform) (3.38.0)\n",
      "Requirement already satisfied: google-cloud-resource-manager<3.0.0,>=1.3.3 in /home/zadmin/Desktop/assignments/.venv/lib/python3.12/site-packages (from google-cloud-aiplatform) (1.14.2)\n",
      "Requirement already satisfied: shapely<3.0.0 in /home/zadmin/Desktop/assignments/.venv/lib/python3.12/site-packages (from google-cloud-aiplatform) (2.1.1)\n",
      "Requirement already satisfied: google-genai<2.0.0,>=1.0.0 in /home/zadmin/Desktop/assignments/.venv/lib/python3.12/site-packages (from google-cloud-aiplatform) (1.2.0)\n",
      "Requirement already satisfied: docstring_parser<1 in /home/zadmin/Desktop/assignments/.venv/lib/python3.12/site-packages (from google-cloud-aiplatform) (0.17.0)\n",
      "Requirement already satisfied: googleapis-common-protos<2.0.0,>=1.56.2 in /home/zadmin/Desktop/assignments/.venv/lib/python3.12/site-packages (from google-api-core!=2.0.*,!=2.1.*,!=2.2.*,!=2.3.*,!=2.4.*,!=2.5.*,!=2.6.*,!=2.7.*,<3.0.0,>=1.34.1->google-api-core[grpc]!=2.0.*,!=2.1.*,!=2.2.*,!=2.3.*,!=2.4.*,!=2.5.*,!=2.6.*,!=2.7.*,<3.0.0,>=1.34.1->google-cloud-aiplatform) (1.70.0)\n",
      "Requirement already satisfied: grpcio<2.0.0,>=1.33.2 in /home/zadmin/Desktop/assignments/.venv/lib/python3.12/site-packages (from google-api-core[grpc]!=2.0.*,!=2.1.*,!=2.2.*,!=2.3.*,!=2.4.*,!=2.5.*,!=2.6.*,!=2.7.*,<3.0.0,>=1.34.1->google-cloud-aiplatform) (1.75.0)\n",
      "Requirement already satisfied: grpcio-status<2.0.0,>=1.33.2 in /home/zadmin/Desktop/assignments/.venv/lib/python3.12/site-packages (from google-api-core[grpc]!=2.0.*,!=2.1.*,!=2.2.*,!=2.3.*,!=2.4.*,!=2.5.*,!=2.6.*,!=2.7.*,<3.0.0,>=1.34.1->google-cloud-aiplatform) (1.75.0)\n",
      "Requirement already satisfied: cachetools<6.0,>=2.0.0 in /home/zadmin/Desktop/assignments/.venv/lib/python3.12/site-packages (from google-auth<3.0.0,>=2.14.1->google-cloud-aiplatform) (5.5.2)\n",
      "Requirement already satisfied: pyasn1-modules>=0.2.1 in /home/zadmin/Desktop/assignments/.venv/lib/python3.12/site-packages (from google-auth<3.0.0,>=2.14.1->google-cloud-aiplatform) (0.4.2)\n",
      "Requirement already satisfied: rsa<5,>=3.1.4 in /home/zadmin/Desktop/assignments/.venv/lib/python3.12/site-packages (from google-auth<3.0.0,>=2.14.1->google-cloud-aiplatform) (4.9.1)\n",
      "Requirement already satisfied: google-cloud-core<3.0.0,>=2.4.1 in /home/zadmin/Desktop/assignments/.venv/lib/python3.12/site-packages (from google-cloud-bigquery!=3.20.0,<4.0.0,>=1.15.0->google-cloud-aiplatform) (2.4.3)\n",
      "Requirement already satisfied: google-resumable-media<3.0.0,>=2.0.0 in /home/zadmin/Desktop/assignments/.venv/lib/python3.12/site-packages (from google-cloud-bigquery!=3.20.0,<4.0.0,>=1.15.0->google-cloud-aiplatform) (2.7.2)\n",
      "Requirement already satisfied: python-dateutil<3.0.0,>=2.8.2 in /home/zadmin/Desktop/assignments/.venv/lib/python3.12/site-packages (from google-cloud-bigquery!=3.20.0,<4.0.0,>=1.15.0->google-cloud-aiplatform) (2.9.0.post0)\n",
      "Requirement already satisfied: grpc-google-iam-v1<1.0.0,>=0.14.0 in /home/zadmin/Desktop/assignments/.venv/lib/python3.12/site-packages (from google-cloud-resource-manager<3.0.0,>=1.3.3->google-cloud-aiplatform) (0.14.2)\n",
      "Requirement already satisfied: google-crc32c<2.0dev,>=1.0 in /home/zadmin/Desktop/assignments/.venv/lib/python3.12/site-packages (from google-cloud-storage<3.0.0,>=1.32.0->google-cloud-aiplatform) (1.7.1)\n",
      "Requirement already satisfied: websockets<15.0dev,>=13.0 in /home/zadmin/Desktop/assignments/.venv/lib/python3.12/site-packages (from google-genai<2.0.0,>=1.0.0->google-cloud-aiplatform) (14.2)\n",
      "Requirement already satisfied: six>=1.5 in /home/zadmin/Desktop/assignments/.venv/lib/python3.12/site-packages (from python-dateutil<3.0.0,>=2.8.2->google-cloud-bigquery!=3.20.0,<4.0.0,>=1.15.0->google-cloud-aiplatform) (1.17.0)\n",
      "Requirement already satisfied: pyasn1>=0.1.3 in /home/zadmin/Desktop/assignments/.venv/lib/python3.12/site-packages (from rsa<5,>=3.1.4->google-auth<3.0.0,>=2.14.1->google-cloud-aiplatform) (0.6.1)\n",
      "Requirement already satisfied: numpy>=1.21 in /home/zadmin/Desktop/assignments/.venv/lib/python3.12/site-packages (from shapely<3.0.0->google-cloud-aiplatform) (1.26.4)\n",
      "Requirement already satisfied: mlflow-skinny==3.3.2 in /home/zadmin/Desktop/assignments/.venv/lib/python3.12/site-packages (from mlflow) (3.3.2)\n",
      "Requirement already satisfied: mlflow-tracing==3.3.2 in /home/zadmin/Desktop/assignments/.venv/lib/python3.12/site-packages (from mlflow) (3.3.2)\n",
      "Requirement already satisfied: Flask<4 in /home/zadmin/Desktop/assignments/.venv/lib/python3.12/site-packages (from mlflow) (3.1.2)\n",
      "Requirement already satisfied: alembic!=1.10.0,<2 in /home/zadmin/Desktop/assignments/.venv/lib/python3.12/site-packages (from mlflow) (1.16.5)\n",
      "Requirement already satisfied: cryptography<46,>=43.0.0 in /home/zadmin/Desktop/assignments/.venv/lib/python3.12/site-packages (from mlflow) (45.0.7)\n",
      "Requirement already satisfied: docker<8,>=4.0.0 in /home/zadmin/Desktop/assignments/.venv/lib/python3.12/site-packages (from mlflow) (7.1.0)\n",
      "Requirement already satisfied: graphene<4 in /home/zadmin/Desktop/assignments/.venv/lib/python3.12/site-packages (from mlflow) (3.4.3)\n",
      "Requirement already satisfied: gunicorn<24 in /home/zadmin/Desktop/assignments/.venv/lib/python3.12/site-packages (from mlflow) (23.0.0)\n",
      "Requirement already satisfied: matplotlib<4 in /home/zadmin/Desktop/assignments/.venv/lib/python3.12/site-packages (from mlflow) (3.10.6)\n",
      "Requirement already satisfied: pandas<3 in /home/zadmin/Desktop/assignments/.venv/lib/python3.12/site-packages (from mlflow) (2.3.2)\n",
      "Requirement already satisfied: pyarrow<22,>=4.0.0 in /home/zadmin/Desktop/assignments/.venv/lib/python3.12/site-packages (from mlflow) (21.0.0)\n",
      "Requirement already satisfied: scikit-learn<2 in /home/zadmin/Desktop/assignments/.venv/lib/python3.12/site-packages (from mlflow) (1.7.2)\n",
      "Requirement already satisfied: scipy<2 in /home/zadmin/Desktop/assignments/.venv/lib/python3.12/site-packages (from mlflow) (1.16.2)\n",
      "Requirement already satisfied: click<9,>=7.0 in /home/zadmin/Desktop/assignments/.venv/lib/python3.12/site-packages (from mlflow-skinny==3.3.2->mlflow) (8.3.0)\n",
      "Requirement already satisfied: cloudpickle<4 in /home/zadmin/Desktop/assignments/.venv/lib/python3.12/site-packages (from mlflow-skinny==3.3.2->mlflow) (3.1.1)\n",
      "Requirement already satisfied: databricks-sdk<1,>=0.20.0 in /home/zadmin/Desktop/assignments/.venv/lib/python3.12/site-packages (from mlflow-skinny==3.3.2->mlflow) (0.65.0)\n",
      "Requirement already satisfied: fastapi<1 in /home/zadmin/Desktop/assignments/.venv/lib/python3.12/site-packages (from mlflow-skinny==3.3.2->mlflow) (0.117.1)\n",
      "Requirement already satisfied: gitpython<4,>=3.1.9 in /home/zadmin/Desktop/assignments/.venv/lib/python3.12/site-packages (from mlflow-skinny==3.3.2->mlflow) (3.1.45)\n",
      "Requirement already satisfied: importlib_metadata!=4.7.0,<9,>=3.7.0 in /home/zadmin/Desktop/assignments/.venv/lib/python3.12/site-packages (from mlflow-skinny==3.3.2->mlflow) (8.7.0)\n",
      "Requirement already satisfied: opentelemetry-api<3,>=1.9.0 in /home/zadmin/Desktop/assignments/.venv/lib/python3.12/site-packages (from mlflow-skinny==3.3.2->mlflow) (1.37.0)\n",
      "Requirement already satisfied: opentelemetry-sdk<3,>=1.9.0 in /home/zadmin/Desktop/assignments/.venv/lib/python3.12/site-packages (from mlflow-skinny==3.3.2->mlflow) (1.37.0)\n",
      "Requirement already satisfied: sqlparse<1,>=0.4.0 in /home/zadmin/Desktop/assignments/.venv/lib/python3.12/site-packages (from mlflow-skinny==3.3.2->mlflow) (0.5.3)\n",
      "Requirement already satisfied: uvicorn<1 in /home/zadmin/Desktop/assignments/.venv/lib/python3.12/site-packages (from mlflow-skinny==3.3.2->mlflow) (0.36.0)\n",
      "Requirement already satisfied: Mako in /home/zadmin/Desktop/assignments/.venv/lib/python3.12/site-packages (from alembic!=1.10.0,<2->mlflow) (1.3.10)\n",
      "Requirement already satisfied: cffi>=1.14 in /home/zadmin/Desktop/assignments/.venv/lib/python3.12/site-packages (from cryptography<46,>=43.0.0->mlflow) (2.0.0)\n",
      "Requirement already satisfied: starlette<0.49.0,>=0.40.0 in /home/zadmin/Desktop/assignments/.venv/lib/python3.12/site-packages (from fastapi<1->mlflow-skinny==3.3.2->mlflow) (0.48.0)\n",
      "Requirement already satisfied: blinker>=1.9.0 in /home/zadmin/Desktop/assignments/.venv/lib/python3.12/site-packages (from Flask<4->mlflow) (1.9.0)\n",
      "Requirement already satisfied: itsdangerous>=2.2.0 in /home/zadmin/Desktop/assignments/.venv/lib/python3.12/site-packages (from Flask<4->mlflow) (2.2.0)\n",
      "Requirement already satisfied: jinja2>=3.1.2 in /home/zadmin/Desktop/assignments/.venv/lib/python3.12/site-packages (from Flask<4->mlflow) (3.1.6)\n",
      "Requirement already satisfied: markupsafe>=2.1.1 in /home/zadmin/Desktop/assignments/.venv/lib/python3.12/site-packages (from Flask<4->mlflow) (3.0.2)\n",
      "Requirement already satisfied: werkzeug>=3.1.0 in /home/zadmin/Desktop/assignments/.venv/lib/python3.12/site-packages (from Flask<4->mlflow) (3.1.3)\n",
      "Requirement already satisfied: gitdb<5,>=4.0.1 in /home/zadmin/Desktop/assignments/.venv/lib/python3.12/site-packages (from gitpython<4,>=3.1.9->mlflow-skinny==3.3.2->mlflow) (4.0.12)\n",
      "Requirement already satisfied: smmap<6,>=3.0.1 in /home/zadmin/Desktop/assignments/.venv/lib/python3.12/site-packages (from gitdb<5,>=4.0.1->gitpython<4,>=3.1.9->mlflow-skinny==3.3.2->mlflow) (5.0.2)\n",
      "Requirement already satisfied: graphql-core<3.3,>=3.1 in /home/zadmin/Desktop/assignments/.venv/lib/python3.12/site-packages (from graphene<4->mlflow) (3.2.6)\n",
      "Requirement already satisfied: graphql-relay<3.3,>=3.1 in /home/zadmin/Desktop/assignments/.venv/lib/python3.12/site-packages (from graphene<4->mlflow) (3.2.0)\n",
      "Requirement already satisfied: zipp>=3.20 in /home/zadmin/Desktop/assignments/.venv/lib/python3.12/site-packages (from importlib_metadata!=4.7.0,<9,>=3.7.0->mlflow-skinny==3.3.2->mlflow) (3.23.0)\n",
      "Requirement already satisfied: contourpy>=1.0.1 in /home/zadmin/Desktop/assignments/.venv/lib/python3.12/site-packages (from matplotlib<4->mlflow) (1.3.3)\n",
      "Requirement already satisfied: cycler>=0.10 in /home/zadmin/Desktop/assignments/.venv/lib/python3.12/site-packages (from matplotlib<4->mlflow) (0.12.1)\n",
      "Requirement already satisfied: fonttools>=4.22.0 in /home/zadmin/Desktop/assignments/.venv/lib/python3.12/site-packages (from matplotlib<4->mlflow) (4.60.0)\n",
      "Requirement already satisfied: kiwisolver>=1.3.1 in /home/zadmin/Desktop/assignments/.venv/lib/python3.12/site-packages (from matplotlib<4->mlflow) (1.4.9)\n",
      "Requirement already satisfied: pillow>=8 in /home/zadmin/Desktop/assignments/.venv/lib/python3.12/site-packages (from matplotlib<4->mlflow) (11.3.0)\n",
      "Requirement already satisfied: pyparsing>=2.3.1 in /home/zadmin/Desktop/assignments/.venv/lib/python3.12/site-packages (from matplotlib<4->mlflow) (3.2.5)\n",
      "Requirement already satisfied: opentelemetry-semantic-conventions==0.58b0 in /home/zadmin/Desktop/assignments/.venv/lib/python3.12/site-packages (from opentelemetry-sdk<3,>=1.9.0->mlflow-skinny==3.3.2->mlflow) (0.58b0)\n",
      "Requirement already satisfied: pytz>=2020.1 in /home/zadmin/Desktop/assignments/.venv/lib/python3.12/site-packages (from pandas<3->mlflow) (2025.2)\n",
      "Requirement already satisfied: tzdata>=2022.7 in /home/zadmin/Desktop/assignments/.venv/lib/python3.12/site-packages (from pandas<3->mlflow) (2025.2)\n",
      "Requirement already satisfied: joblib>=1.2.0 in /home/zadmin/Desktop/assignments/.venv/lib/python3.12/site-packages (from scikit-learn<2->mlflow) (1.5.2)\n",
      "Requirement already satisfied: threadpoolctl>=3.1.0 in /home/zadmin/Desktop/assignments/.venv/lib/python3.12/site-packages (from scikit-learn<2->mlflow) (3.6.0)\n",
      "Requirement already satisfied: anyio<5,>=3.6.2 in /home/zadmin/Desktop/assignments/.venv/lib/python3.12/site-packages (from starlette<0.49.0,>=0.40.0->fastapi<1->mlflow-skinny==3.3.2->mlflow) (4.10.0)\n",
      "Requirement already satisfied: sniffio>=1.1 in /home/zadmin/Desktop/assignments/.venv/lib/python3.12/site-packages (from anyio<5,>=3.6.2->starlette<0.49.0,>=0.40.0->fastapi<1->mlflow-skinny==3.3.2->mlflow) (1.3.1)\n",
      "Requirement already satisfied: h11>=0.8 in /home/zadmin/Desktop/assignments/.venv/lib/python3.12/site-packages (from uvicorn<1->mlflow-skinny==3.3.2->mlflow) (0.16.0)\n",
      "Requirement already satisfied: multitasking>=0.0.7 in /home/zadmin/Desktop/assignments/.venv/lib/python3.12/site-packages (from yfinance) (0.0.12)\n",
      "Requirement already satisfied: platformdirs>=2.0.0 in /home/zadmin/Desktop/assignments/.venv/lib/python3.12/site-packages (from yfinance) (4.4.0)\n",
      "Requirement already satisfied: frozendict>=2.3.4 in /home/zadmin/Desktop/assignments/.venv/lib/python3.12/site-packages (from yfinance) (2.4.6)\n",
      "Requirement already satisfied: peewee>=3.16.2 in /home/zadmin/Desktop/assignments/.venv/lib/python3.12/site-packages (from yfinance) (3.18.2)\n",
      "Requirement already satisfied: beautifulsoup4>=4.11.1 in /home/zadmin/Desktop/assignments/.venv/lib/python3.12/site-packages (from yfinance) (4.13.5)\n",
      "Requirement already satisfied: curl_cffi>=0.7 in /home/zadmin/Desktop/assignments/.venv/lib/python3.12/site-packages (from yfinance) (0.13.0)\n",
      "Requirement already satisfied: openai<2.0,>=1.48 in /home/zadmin/Desktop/assignments/.venv/lib/python3.12/site-packages (from exa_py) (1.108.1)\n",
      "Requirement already satisfied: pytest-mock<4.0.0,>=3.14.0 in /home/zadmin/Desktop/assignments/.venv/lib/python3.12/site-packages (from exa_py) (3.15.1)\n",
      "Requirement already satisfied: distro<2,>=1.7.0 in /home/zadmin/Desktop/assignments/.venv/lib/python3.12/site-packages (from openai<2.0,>=1.48->exa_py) (1.9.0)\n",
      "Requirement already satisfied: httpx<1,>=0.23.0 in /home/zadmin/Desktop/assignments/.venv/lib/python3.12/site-packages (from openai<2.0,>=1.48->exa_py) (0.25.2)\n",
      "Requirement already satisfied: jiter<1,>=0.4.0 in /home/zadmin/Desktop/assignments/.venv/lib/python3.12/site-packages (from openai<2.0,>=1.48->exa_py) (0.11.0)\n",
      "Requirement already satisfied: tqdm>4 in /home/zadmin/Desktop/assignments/.venv/lib/python3.12/site-packages (from openai<2.0,>=1.48->exa_py) (4.67.1)\n",
      "Requirement already satisfied: httpcore==1.* in /home/zadmin/Desktop/assignments/.venv/lib/python3.12/site-packages (from httpx<1,>=0.23.0->openai<2.0,>=1.48->exa_py) (1.0.9)\n",
      "Requirement already satisfied: pytest>=6.2.5 in /home/zadmin/Desktop/assignments/.venv/lib/python3.12/site-packages (from pytest-mock<4.0.0,>=3.14.0->exa_py) (8.4.2)\n",
      "Collecting httpx<1,>=0.23.0 (from openai<2.0,>=1.48->exa_py)\n",
      "  Using cached httpx-0.28.1-py3-none-any.whl.metadata (7.1 kB)\n",
      "Requirement already satisfied: httpx-sse<1,>=0.4 in /home/zadmin/Desktop/assignments/.venv/lib/python3.12/site-packages (from langchain-google-vertexai) (0.4.1)\n",
      "Requirement already satisfied: validators<1,>=0.22 in /home/zadmin/Desktop/assignments/.venv/lib/python3.12/site-packages (from langchain-google-vertexai) (0.35.0)\n",
      "Requirement already satisfied: bottleneck<2,>=1.4 in /home/zadmin/Desktop/assignments/.venv/lib/python3.12/site-packages (from langchain-google-vertexai) (1.6.0)\n",
      "Requirement already satisfied: numexpr<3,>=2.8.6 in /home/zadmin/Desktop/assignments/.venv/lib/python3.12/site-packages (from langchain-google-vertexai) (2.12.1)\n",
      "Requirement already satisfied: soupsieve>1.2 in /home/zadmin/Desktop/assignments/.venv/lib/python3.12/site-packages (from beautifulsoup4>=4.11.1->yfinance) (2.8)\n",
      "Requirement already satisfied: pycparser in /home/zadmin/Desktop/assignments/.venv/lib/python3.12/site-packages (from cffi>=1.14->cryptography<46,>=43.0.0->mlflow) (2.23)\n",
      "Requirement already satisfied: orjson>=3.9.14 in /home/zadmin/Desktop/assignments/.venv/lib/python3.12/site-packages (from langsmith>=0.1.17->langchain) (3.11.3)\n",
      "Requirement already satisfied: requests-toolbelt>=1.0.0 in /home/zadmin/Desktop/assignments/.venv/lib/python3.12/site-packages (from langsmith>=0.1.17->langchain) (1.0.0)\n",
      "Requirement already satisfied: zstandard>=0.23.0 in /home/zadmin/Desktop/assignments/.venv/lib/python3.12/site-packages (from langsmith>=0.1.17->langchain) (0.25.0)\n",
      "Requirement already satisfied: iniconfig>=1 in /home/zadmin/Desktop/assignments/.venv/lib/python3.12/site-packages (from pytest>=6.2.5->pytest-mock<4.0.0,>=3.14.0->exa_py) (2.1.0)\n",
      "Requirement already satisfied: pluggy<2,>=1.5 in /home/zadmin/Desktop/assignments/.venv/lib/python3.12/site-packages (from pytest>=6.2.5->pytest-mock<4.0.0,>=3.14.0->exa_py) (1.6.0)\n",
      "Requirement already satisfied: pygments>=2.7.2 in /home/zadmin/Desktop/assignments/.venv/lib/python3.12/site-packages (from pytest>=6.2.5->pytest-mock<4.0.0,>=3.14.0->exa_py) (2.19.2)\n",
      "Using cached httpx-0.28.1-py3-none-any.whl (73 kB)\n",
      "Installing collected packages: httpx\n",
      "  Attempting uninstall: httpx\n",
      "    Found existing installation: httpx 0.25.2\n",
      "    Uninstalling httpx-0.25.2:\n",
      "      Successfully uninstalled httpx-0.25.2\n",
      "\u001b[31mERROR: pip's dependency resolver does not currently take into account all the packages that are installed. This behaviour is the source of the following dependency conflicts.\n",
      "brave-search 0.1.8 requires httpx<0.26.0,>=0.25.2, but you have httpx 0.28.1 which is incompatible.\u001b[0m\u001b[31m\n",
      "\u001b[0mSuccessfully installed httpx-0.28.1\n"
     ]
    }
   ],
   "source": [
    "!pip install langchain google-cloud-aiplatform mlflow yfinance exa_py langchain-google-vertexai\n"
   ]
  },
  {
   "cell_type": "code",
   "execution_count": 19,
   "metadata": {},
   "outputs": [
    {
     "name": "stdout",
     "output_type": "stream",
     "text": [
      "Requirement already satisfied: brave-search in /home/zadmin/Desktop/assignments/.venv/lib/python3.12/site-packages (0.1.8)\n",
      "Requirement already satisfied: langchain-community in /home/zadmin/Desktop/assignments/.venv/lib/python3.12/site-packages (0.3.29)\n",
      "Collecting httpx<0.26.0,>=0.25.2 (from brave-search)\n",
      "  Using cached httpx-0.25.2-py3-none-any.whl.metadata (6.9 kB)\n",
      "Requirement already satisfied: numpy<2.0.0,>=1.24.4 in /home/zadmin/Desktop/assignments/.venv/lib/python3.12/site-packages (from brave-search) (1.26.4)\n",
      "Requirement already satisfied: pydantic<3.0.0,>=2.5.2 in /home/zadmin/Desktop/assignments/.venv/lib/python3.12/site-packages (from brave-search) (2.11.9)\n",
      "Requirement already satisfied: pytest-asyncio<0.24.0,>=0.23.2 in /home/zadmin/Desktop/assignments/.venv/lib/python3.12/site-packages (from brave-search) (0.23.8)\n",
      "Requirement already satisfied: requests<3.0.0,>=2.26.0 in /home/zadmin/Desktop/assignments/.venv/lib/python3.12/site-packages (from brave-search) (2.32.5)\n",
      "Requirement already satisfied: tenacity<9.0.0,>=8.2.3 in /home/zadmin/Desktop/assignments/.venv/lib/python3.12/site-packages (from brave-search) (8.5.0)\n",
      "Requirement already satisfied: anyio in /home/zadmin/Desktop/assignments/.venv/lib/python3.12/site-packages (from httpx<0.26.0,>=0.25.2->brave-search) (4.10.0)\n",
      "Requirement already satisfied: certifi in /home/zadmin/Desktop/assignments/.venv/lib/python3.12/site-packages (from httpx<0.26.0,>=0.25.2->brave-search) (2025.8.3)\n",
      "Requirement already satisfied: httpcore==1.* in /home/zadmin/Desktop/assignments/.venv/lib/python3.12/site-packages (from httpx<0.26.0,>=0.25.2->brave-search) (1.0.9)\n",
      "Requirement already satisfied: idna in /home/zadmin/Desktop/assignments/.venv/lib/python3.12/site-packages (from httpx<0.26.0,>=0.25.2->brave-search) (3.10)\n",
      "Requirement already satisfied: sniffio in /home/zadmin/Desktop/assignments/.venv/lib/python3.12/site-packages (from httpx<0.26.0,>=0.25.2->brave-search) (1.3.1)\n",
      "Requirement already satisfied: h11>=0.16 in /home/zadmin/Desktop/assignments/.venv/lib/python3.12/site-packages (from httpcore==1.*->httpx<0.26.0,>=0.25.2->brave-search) (0.16.0)\n",
      "Requirement already satisfied: annotated-types>=0.6.0 in /home/zadmin/Desktop/assignments/.venv/lib/python3.12/site-packages (from pydantic<3.0.0,>=2.5.2->brave-search) (0.7.0)\n",
      "Requirement already satisfied: pydantic-core==2.33.2 in /home/zadmin/Desktop/assignments/.venv/lib/python3.12/site-packages (from pydantic<3.0.0,>=2.5.2->brave-search) (2.33.2)\n",
      "Requirement already satisfied: typing-extensions>=4.12.2 in /home/zadmin/Desktop/assignments/.venv/lib/python3.12/site-packages (from pydantic<3.0.0,>=2.5.2->brave-search) (4.15.0)\n",
      "Requirement already satisfied: typing-inspection>=0.4.0 in /home/zadmin/Desktop/assignments/.venv/lib/python3.12/site-packages (from pydantic<3.0.0,>=2.5.2->brave-search) (0.4.1)\n",
      "Requirement already satisfied: pytest<9,>=7.0.0 in /home/zadmin/Desktop/assignments/.venv/lib/python3.12/site-packages (from pytest-asyncio<0.24.0,>=0.23.2->brave-search) (8.4.2)\n",
      "Requirement already satisfied: iniconfig>=1 in /home/zadmin/Desktop/assignments/.venv/lib/python3.12/site-packages (from pytest<9,>=7.0.0->pytest-asyncio<0.24.0,>=0.23.2->brave-search) (2.1.0)\n",
      "Requirement already satisfied: packaging>=20 in /home/zadmin/Desktop/assignments/.venv/lib/python3.12/site-packages (from pytest<9,>=7.0.0->pytest-asyncio<0.24.0,>=0.23.2->brave-search) (25.0)\n",
      "Requirement already satisfied: pluggy<2,>=1.5 in /home/zadmin/Desktop/assignments/.venv/lib/python3.12/site-packages (from pytest<9,>=7.0.0->pytest-asyncio<0.24.0,>=0.23.2->brave-search) (1.6.0)\n",
      "Requirement already satisfied: pygments>=2.7.2 in /home/zadmin/Desktop/assignments/.venv/lib/python3.12/site-packages (from pytest<9,>=7.0.0->pytest-asyncio<0.24.0,>=0.23.2->brave-search) (2.19.2)\n",
      "Requirement already satisfied: charset_normalizer<4,>=2 in /home/zadmin/Desktop/assignments/.venv/lib/python3.12/site-packages (from requests<3.0.0,>=2.26.0->brave-search) (3.4.3)\n",
      "Requirement already satisfied: urllib3<3,>=1.21.1 in /home/zadmin/Desktop/assignments/.venv/lib/python3.12/site-packages (from requests<3.0.0,>=2.26.0->brave-search) (2.5.0)\n",
      "Requirement already satisfied: langchain-core<2.0.0,>=0.3.75 in /home/zadmin/Desktop/assignments/.venv/lib/python3.12/site-packages (from langchain-community) (0.3.76)\n",
      "Requirement already satisfied: langchain<2.0.0,>=0.3.27 in /home/zadmin/Desktop/assignments/.venv/lib/python3.12/site-packages (from langchain-community) (0.3.27)\n",
      "Requirement already satisfied: SQLAlchemy<3,>=1.4 in /home/zadmin/Desktop/assignments/.venv/lib/python3.12/site-packages (from langchain-community) (2.0.43)\n",
      "Requirement already satisfied: PyYAML>=5.3 in /home/zadmin/Desktop/assignments/.venv/lib/python3.12/site-packages (from langchain-community) (6.0.2)\n",
      "Requirement already satisfied: aiohttp<4.0.0,>=3.8.3 in /home/zadmin/Desktop/assignments/.venv/lib/python3.12/site-packages (from langchain-community) (3.12.15)\n",
      "Requirement already satisfied: dataclasses-json<0.7,>=0.6.7 in /home/zadmin/Desktop/assignments/.venv/lib/python3.12/site-packages (from langchain-community) (0.6.7)\n",
      "Requirement already satisfied: pydantic-settings<3.0.0,>=2.10.1 in /home/zadmin/Desktop/assignments/.venv/lib/python3.12/site-packages (from langchain-community) (2.10.1)\n",
      "Requirement already satisfied: langsmith>=0.1.125 in /home/zadmin/Desktop/assignments/.venv/lib/python3.12/site-packages (from langchain-community) (0.4.29)\n",
      "Requirement already satisfied: httpx-sse<1.0.0,>=0.4.0 in /home/zadmin/Desktop/assignments/.venv/lib/python3.12/site-packages (from langchain-community) (0.4.1)\n",
      "Requirement already satisfied: aiohappyeyeballs>=2.5.0 in /home/zadmin/Desktop/assignments/.venv/lib/python3.12/site-packages (from aiohttp<4.0.0,>=3.8.3->langchain-community) (2.6.1)\n",
      "Requirement already satisfied: aiosignal>=1.4.0 in /home/zadmin/Desktop/assignments/.venv/lib/python3.12/site-packages (from aiohttp<4.0.0,>=3.8.3->langchain-community) (1.4.0)\n",
      "Requirement already satisfied: attrs>=17.3.0 in /home/zadmin/Desktop/assignments/.venv/lib/python3.12/site-packages (from aiohttp<4.0.0,>=3.8.3->langchain-community) (25.3.0)\n",
      "Requirement already satisfied: frozenlist>=1.1.1 in /home/zadmin/Desktop/assignments/.venv/lib/python3.12/site-packages (from aiohttp<4.0.0,>=3.8.3->langchain-community) (1.7.0)\n",
      "Requirement already satisfied: multidict<7.0,>=4.5 in /home/zadmin/Desktop/assignments/.venv/lib/python3.12/site-packages (from aiohttp<4.0.0,>=3.8.3->langchain-community) (6.6.4)\n",
      "Requirement already satisfied: propcache>=0.2.0 in /home/zadmin/Desktop/assignments/.venv/lib/python3.12/site-packages (from aiohttp<4.0.0,>=3.8.3->langchain-community) (0.3.2)\n",
      "Requirement already satisfied: yarl<2.0,>=1.17.0 in /home/zadmin/Desktop/assignments/.venv/lib/python3.12/site-packages (from aiohttp<4.0.0,>=3.8.3->langchain-community) (1.20.1)\n",
      "Requirement already satisfied: marshmallow<4.0.0,>=3.18.0 in /home/zadmin/Desktop/assignments/.venv/lib/python3.12/site-packages (from dataclasses-json<0.7,>=0.6.7->langchain-community) (3.26.1)\n",
      "Requirement already satisfied: typing-inspect<1,>=0.4.0 in /home/zadmin/Desktop/assignments/.venv/lib/python3.12/site-packages (from dataclasses-json<0.7,>=0.6.7->langchain-community) (0.9.0)\n",
      "Requirement already satisfied: langchain-text-splitters<1.0.0,>=0.3.9 in /home/zadmin/Desktop/assignments/.venv/lib/python3.12/site-packages (from langchain<2.0.0,>=0.3.27->langchain-community) (0.3.11)\n",
      "Requirement already satisfied: jsonpatch<2.0,>=1.33 in /home/zadmin/Desktop/assignments/.venv/lib/python3.12/site-packages (from langchain-core<2.0.0,>=0.3.75->langchain-community) (1.33)\n",
      "Requirement already satisfied: jsonpointer>=1.9 in /home/zadmin/Desktop/assignments/.venv/lib/python3.12/site-packages (from jsonpatch<2.0,>=1.33->langchain-core<2.0.0,>=0.3.75->langchain-community) (3.0.0)\n",
      "Requirement already satisfied: python-dotenv>=0.21.0 in /home/zadmin/Desktop/assignments/.venv/lib/python3.12/site-packages (from pydantic-settings<3.0.0,>=2.10.1->langchain-community) (1.1.1)\n",
      "Requirement already satisfied: greenlet>=1 in /home/zadmin/Desktop/assignments/.venv/lib/python3.12/site-packages (from SQLAlchemy<3,>=1.4->langchain-community) (3.2.4)\n",
      "Requirement already satisfied: mypy-extensions>=0.3.0 in /home/zadmin/Desktop/assignments/.venv/lib/python3.12/site-packages (from typing-inspect<1,>=0.4.0->dataclasses-json<0.7,>=0.6.7->langchain-community) (1.1.0)\n",
      "Requirement already satisfied: orjson>=3.9.14 in /home/zadmin/Desktop/assignments/.venv/lib/python3.12/site-packages (from langsmith>=0.1.125->langchain-community) (3.11.3)\n",
      "Requirement already satisfied: requests-toolbelt>=1.0.0 in /home/zadmin/Desktop/assignments/.venv/lib/python3.12/site-packages (from langsmith>=0.1.125->langchain-community) (1.0.0)\n",
      "Requirement already satisfied: zstandard>=0.23.0 in /home/zadmin/Desktop/assignments/.venv/lib/python3.12/site-packages (from langsmith>=0.1.125->langchain-community) (0.25.0)\n",
      "Using cached httpx-0.25.2-py3-none-any.whl (74 kB)\n",
      "Installing collected packages: httpx\n",
      "  Attempting uninstall: httpx\n",
      "    Found existing installation: httpx 0.28.1\n",
      "    Uninstalling httpx-0.28.1:\n",
      "      Successfully uninstalled httpx-0.28.1\n",
      "\u001b[31mERROR: pip's dependency resolver does not currently take into account all the packages that are installed. This behaviour is the source of the following dependency conflicts.\n",
      "langchain-google-vertexai 2.1.2 requires httpx<1,>=0.28, but you have httpx 0.25.2 which is incompatible.\u001b[0m\u001b[31m\n",
      "\u001b[0mSuccessfully installed httpx-0.25.2\n"
     ]
    }
   ],
   "source": [
    "!pip install brave-search langchain-community"
   ]
  },
  {
   "cell_type": "markdown",
   "metadata": {},
   "source": [
    "Import all the dependencies required"
   ]
  },
  {
   "cell_type": "code",
   "execution_count": 20,
   "metadata": {},
   "outputs": [],
   "source": [
    "import os\n",
    "import mlflow\n",
    "import yfinance as yf\n",
    "from langchain.prompts import PromptTemplate\n",
    "from langchain.output_parsers import StructuredOutputParser, ResponseSchema\n",
    "from langchain_google_vertexai import VertexAI\n",
    "from langchain_community.tools import BraveSearch"
   ]
  },
  {
   "cell_type": "code",
   "execution_count": 21,
   "metadata": {},
   "outputs": [],
   "source": [
    "# VertexAI setup\n",
    "llm = VertexAI(model=\"gemini-2.0-flash\", temperature=0.2)"
   ]
  },
  {
   "cell_type": "code",
   "execution_count": 22,
   "metadata": {},
   "outputs": [
    {
     "data": {
      "text/plain": [
       "<ActiveRun: >"
      ]
     },
     "execution_count": 22,
     "metadata": {},
     "output_type": "execute_result"
    }
   ],
   "source": [
    "#MLFlow setup\n",
    "mlflow.set_tracking_uri(\"http://20.75.92.162:5000/\")\n",
    "mlflow.set_experiment(\"market_sentiment_analyzer - Shivam\")\n",
    "mlflow.start_run(run_name=\"sentiment_pipeline\")"
   ]
  },
  {
   "cell_type": "code",
   "execution_count": 23,
   "metadata": {},
   "outputs": [
    {
     "data": {
      "text/plain": [
       "'Google'"
      ]
     },
     "execution_count": 23,
     "metadata": {},
     "output_type": "execute_result"
    }
   ],
   "source": [
    "# Update the company as needed, for ex Google\n",
    "company_name = \"Google\"\n",
    "mlflow.log_param(\"company_name\", company_name)"
   ]
  },
  {
   "cell_type": "code",
   "execution_count": 24,
   "metadata": {},
   "outputs": [
    {
     "name": "stdout",
     "output_type": "stream",
     "text": [
      "Stock Code for Google: GOOGLE\n"
     ]
    }
   ],
   "source": [
    "# Get the company details to check stock code\n",
    "\n",
    "def get_stock_code(company_name: str) -> str:\n",
    "    try:\n",
    "        ticker = yf.Ticker(company_name)\n",
    "        return ticker.ticker if hasattr(ticker, \"ticker\") else \"N/A\"\n",
    "    except Exception:\n",
    "        return \"N/A\"\n",
    "\n",
    "stock_code = get_stock_code(company_name)\n",
    "mlflow.log_param(\"stock_code\", stock_code)\n",
    "\n",
    "print(f\"Stock Code for {company_name}: {stock_code}\")\n"
   ]
  },
  {
   "cell_type": "code",
   "execution_count": 25,
   "metadata": {},
   "outputs": [
    {
     "name": "stdout",
     "output_type": "stream",
     "text": [
      "Top 5 News Headlines:\n"
     ]
    }
   ],
   "source": [
    "# Checking top 5 headlines\n",
    "\n",
    "# news_tool = BraveSearch()\n",
    "# results = news_tool.run(company_name)\n",
    "\n",
    "# news_summaries = [r[\"title\"] + \" - \" + r[\"snippet\"] for r in results[:5]]\n",
    "# mlflow.log_param(\"news_count\", len(news_summaries))\n",
    "\n",
    "# print(\"Top 5 News Headlines:\")\n",
    "# for i, news in enumerate(news_summaries, 1):\n",
    "#     print(f\"{i}. {news}\")\n",
    "\n",
    "ticker = yf.Ticker(stock_code)\n",
    "\n",
    "# Fetch recent news\n",
    "news_articles = ticker.news[:5]\n",
    "\n",
    "news_summaries = [\n",
    "    f\"{article['title']} - {article.get('publisher', 'UnKnown')}\"\n",
    "    for article in news_articles\n",
    "]\n",
    "\n",
    "mlflow.log_param(\"news_count\", len(news_summaries))\n",
    "\n",
    "print(\"Top 5 News Headlines:\")\n",
    "for i, news in enumerate(news_summaries, 1):\n",
    "    print(f\"{i}. {news}\")\n"
   ]
  },
  {
   "cell_type": "code",
   "execution_count": 26,
   "metadata": {},
   "outputs": [],
   "source": [
    "# Define Output JSON Schema\n",
    "\n",
    "response_schemas = [\n",
    "    ResponseSchema(name=\"company_name\", description=\"Name of the company\"),\n",
    "    ResponseSchema(name=\"stock_code\", description=\"Stock ticker symbol\"),\n",
    "    ResponseSchema(name=\"newsdesc\", description=\"Brief description of news\"),\n",
    "    ResponseSchema(name=\"sentiment\", description=\"Positive/Negative/Neutral\"),\n",
    "    ResponseSchema(name=\"people_names\", description=\"List of people mentioned\"),\n",
    "    ResponseSchema(name=\"places_names\", description=\"List of places mentioned\"),\n",
    "    ResponseSchema(name=\"other_companies_referred\", description=\"Other companies mentioned\"),\n",
    "    ResponseSchema(name=\"related_industries\", description=\"Industries referenced\"),\n",
    "    ResponseSchema(name=\"market_implications\", description=\"Implications for the market\"),\n",
    "    ResponseSchema(name=\"confidence_score\", description=\"Float between 0 and 1\"),\n",
    "]\n",
    "\n",
    "output_parser = StructuredOutputParser.from_response_schemas(response_schemas)\n",
    "format_instructions = output_parser.get_format_instructions()\n"
   ]
  },
  {
   "cell_type": "code",
   "execution_count": 27,
   "metadata": {},
   "outputs": [],
   "source": [
    "# Prompt Template for Gemini\n",
    "\n",
    "template = \"\"\"\n",
    "Analyze the following recent news about {company_name} ({stock_code}) \n",
    "and generate a **strict JSON** sentiment profile with No extra text.\n",
    "\n",
    "News:\n",
    "{news_summaries}\n",
    "\n",
    "{format_instructions}\n",
    "\n",
    "**Important:** Output only the JSON object exactly as specified, nothing else\n",
    "\"\"\"\n",
    "\n",
    "prompt = PromptTemplate(\n",
    "    template=template,\n",
    "    input_variables=[\"company_name\", \"stock_code\", \"news_summaries\"],\n",
    "    partial_variables={\"format_instructions\": format_instructions}\n",
    ")\n"
   ]
  },
  {
   "cell_type": "code",
   "execution_count": 28,
   "metadata": {},
   "outputs": [
    {
     "data": {
      "text/plain": [
       "PromptTemplate(input_variables=['company_name', 'news_summaries', 'stock_code'], input_types={}, partial_variables={'format_instructions': 'The output should be a markdown code snippet formatted in the following schema, including the leading and trailing \"```json\" and \"```\":\\n\\n```json\\n{\\n\\t\"company_name\": string  // Name of the company\\n\\t\"stock_code\": string  // Stock ticker symbol\\n\\t\"newsdesc\": string  // Brief description of news\\n\\t\"sentiment\": string  // Positive/Negative/Neutral\\n\\t\"people_names\": string  // List of people mentioned\\n\\t\"places_names\": string  // List of places mentioned\\n\\t\"other_companies_referred\": string  // Other companies mentioned\\n\\t\"related_industries\": string  // Industries referenced\\n\\t\"market_implications\": string  // Implications for the market\\n\\t\"confidence_score\": string  // Float between 0 and 1\\n}\\n```'}, template='\\nAnalyze the following recent news about {company_name} ({stock_code}) \\nand generate a **strict JSON** sentiment profile with No extra text.\\n\\nNews:\\n{news_summaries}\\n\\n{format_instructions}\\n\\n**Important:** Output only the JSON object exactly as specified, nothing else\\n')"
      ]
     },
     "execution_count": 28,
     "metadata": {},
     "output_type": "execute_result"
    }
   ],
   "source": [
    "prompt"
   ]
  },
  {
   "cell_type": "code",
   "execution_count": 29,
   "metadata": {},
   "outputs": [
    {
     "name": "stdout",
     "output_type": "stream",
     "text": [
      "Structured Sentiment Output:\n"
     ]
    },
    {
     "data": {
      "text/plain": [
       "{'company_name': 'Google',\n",
       " 'stock_code': 'GOOGL',\n",
       " 'newsdesc': 'Google is facing increased regulatory scrutiny and competition in the AI sector, potentially impacting its market share and future growth.',\n",
       " 'sentiment': 'Negative',\n",
       " 'people_names': 'None',\n",
       " 'places_names': 'None',\n",
       " 'other_companies_referred': 'None',\n",
       " 'related_industries': 'Artificial Intelligence, Technology',\n",
       " 'market_implications': \"Potential decrease in Google's market share, increased competition in the AI sector, regulatory challenges.\",\n",
       " 'confidence_score': '0.8'}"
      ]
     },
     "execution_count": 29,
     "metadata": {},
     "output_type": "execute_result"
    }
   ],
   "source": [
    "# Update and parse the output\n",
    "\n",
    "_input = prompt.format(\n",
    "    company_name=company_name,\n",
    "    stock_code=stock_code,\n",
    "    news_summaries=\"\\n\".join(news_summaries)\n",
    ")\n",
    "\n",
    "# Invoke Gemini\n",
    "raw_output = llm.invoke(_input)\n",
    "\n",
    "# Parse structured JSON\n",
    "parsed_output = output_parser.parse(raw_output)\n",
    "\n",
    "# Log in mlflow\n",
    "mlflow.log_dict(parsed_output, \"shivam_sentiment_output.json\")\n",
    "\n",
    "print(\"Structured Sentiment Output:\")\n",
    "parsed_output\n"
   ]
  },
  {
   "cell_type": "code",
   "execution_count": 30,
   "metadata": {},
   "outputs": [
    {
     "name": "stdout",
     "output_type": "stream",
     "text": [
      "🏃 View run sentiment_pipeline at: http://20.75.92.162:5000/#/experiments/938225766210056145/runs/50eee6bdbda4495f8d755446565c5eac\n",
      "🧪 View experiment at: http://20.75.92.162:5000/#/experiments/938225766210056145\n"
     ]
    }
   ],
   "source": [
    "# End mlflow run\n",
    "\n",
    "mlflow.end_run()\n"
   ]
  },
  {
   "cell_type": "code",
   "execution_count": 31,
   "metadata": {},
   "outputs": [
    {
     "data": {
      "text/plain": [
       "\"\\n{'company_name': 'Google',\\n 'stock_code': 'GOOGL',\\n 'newsdesc': 'Google faces antitrust scrutiny over its dominance in online advertising and search, potentially leading to regulatory action and fines. The company is also investing heavily in AI and cloud computing to compete with rivals.',\\n 'sentiment': 'Negative',\\n 'people_names': 'None',\\n 'places_names': 'None',\\n 'other_companies_referred': 'None',\\n 'related_industries': 'Online Advertising, Search Engines, Artificial Intelligence, Cloud Computing',\\n 'market_implications': 'Increased regulatory risk, potential for market share shifts, increased competition in AI and cloud sectors.',\\n 'confidence_score': '0.8'}\\n \""
      ]
     },
     "execution_count": 31,
     "metadata": {},
     "output_type": "execute_result"
    }
   ],
   "source": [
    "# Output with company name Google\n",
    "\n",
    "\"\"\"\n",
    "{'company_name': 'Google',\n",
    " 'stock_code': 'GOOGL',\n",
    " 'newsdesc': 'Google faces antitrust scrutiny over its dominance in online advertising and search, potentially leading to regulatory action and fines. The company is also investing heavily in AI and cloud computing to compete with rivals.',\n",
    " 'sentiment': 'Negative',\n",
    " 'people_names': 'None',\n",
    " 'places_names': 'None',\n",
    " 'other_companies_referred': 'None',\n",
    " 'related_industries': 'Online Advertising, Search Engines, Artificial Intelligence, Cloud Computing',\n",
    " 'market_implications': 'Increased regulatory risk, potential for market share shifts, increased competition in AI and cloud sectors.',\n",
    " 'confidence_score': '0.8'}\n",
    " \"\"\""
   ]
  },
  {
   "cell_type": "code",
   "execution_count": null,
   "metadata": {},
   "outputs": [],
   "source": []
  }
 ],
 "metadata": {
  "kernelspec": {
   "display_name": ".venv",
   "language": "python",
   "name": "python3"
  },
  "language_info": {
   "codemirror_mode": {
    "name": "ipython",
    "version": 3
   },
   "file_extension": ".py",
   "mimetype": "text/x-python",
   "name": "python",
   "nbconvert_exporter": "python",
   "pygments_lexer": "ipython3",
   "version": "3.12.3"
  }
 },
 "nbformat": 4,
 "nbformat_minor": 2
}
